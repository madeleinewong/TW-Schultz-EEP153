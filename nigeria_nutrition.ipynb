{
 "cells": [
  {
   "cell_type": "markdown",
   "metadata": {},
   "source": [
    "## Preface\n",
    "\n"
   ]
  },
  {
   "cell_type": "markdown",
   "metadata": {},
   "source": [
    "First, if you don&rsquo;t already have the latest version of the `cfe` package\n",
    "installed, grab it, along with some dependencies:\n",
    "\n"
   ]
  },
  {
   "cell_type": "code",
   "execution_count": 1,
   "metadata": {},
   "outputs": [
    {
     "name": "stdout",
     "output_type": "stream",
     "text": [
      "Requirement already up-to-date: CFEDemands in /srv/app/venv/lib/python3.6/site-packages\n",
      "\u001b[33mYou are using pip version 9.0.3, however version 20.0.2 is available.\n",
      "You should consider upgrading via the 'pip install --upgrade pip' command.\u001b[0m\n",
      "Requirement already up-to-date: xarray in /srv/app/venv/lib/python3.6/site-packages\n",
      "Requirement already up-to-date: setuptools>=41.2 in /srv/app/venv/lib/python3.6/site-packages (from xarray)\n",
      "Requirement already up-to-date: numpy>=1.15 in /srv/app/venv/lib/python3.6/site-packages (from xarray)\n",
      "Requirement already up-to-date: pandas>=0.25 in /srv/app/venv/lib/python3.6/site-packages (from xarray)\n",
      "Requirement already up-to-date: pytz>=2017.2 in /srv/app/venv/lib/python3.6/site-packages (from pandas>=0.25->xarray)\n",
      "Requirement already up-to-date: python-dateutil>=2.6.1 in /srv/app/venv/lib/python3.6/site-packages (from pandas>=0.25->xarray)\n",
      "Requirement already up-to-date: six>=1.5 in /srv/app/venv/lib/python3.6/site-packages (from python-dateutil>=2.6.1->pandas>=0.25->xarray)\n",
      "\u001b[33mYou are using pip version 9.0.3, however version 20.0.2 is available.\n",
      "You should consider upgrading via the 'pip install --upgrade pip' command.\u001b[0m\n",
      "Requirement already satisfied: h5netcdf in /srv/app/venv/lib/python3.6/site-packages\n",
      "Requirement already satisfied: h5py in /srv/app/venv/lib/python3.6/site-packages (from h5netcdf)\n",
      "Requirement already satisfied: six in /srv/app/venv/lib/python3.6/site-packages (from h5py->h5netcdf)\n",
      "Requirement already satisfied: numpy>=1.7 in /srv/app/venv/lib/python3.6/site-packages (from h5py->h5netcdf)\n",
      "\u001b[33mYou are using pip version 9.0.3, however version 20.0.2 is available.\n",
      "You should consider upgrading via the 'pip install --upgrade pip' command.\u001b[0m\n"
     ]
    }
   ],
   "source": [
    "!pip install CFEDemands --upgrade --pre\n",
    "!pip install xarray --upgrade\n",
    "!pip install h5netcdf"
   ]
  },
  {
   "cell_type": "code",
   "execution_count": null,
   "metadata": {},
   "outputs": [],
   "source": []
  },
  {
   "cell_type": "markdown",
   "metadata": {},
   "source": [
    "Second, load relevant dataset:\n",
    "\n"
   ]
  },
  {
   "cell_type": "code",
   "execution_count": 4,
   "metadata": {},
   "outputs": [],
   "source": [
    "import cfe\n",
    "\n",
    "# Results can be made persistent by saving them, and then re-loading...\n",
    "r = cfe.from_dataset('./Nigeria_small.ds')\n",
    "\n",
    "r['alpha'] = r.alpha.loc[r.alpha>0]  # Insist on alpha positive"
   ]
  },
  {
   "cell_type": "code",
   "execution_count": null,
   "metadata": {},
   "outputs": [],
   "source": []
  },
  {
   "cell_type": "code",
   "execution_count": null,
   "metadata": {},
   "outputs": [],
   "source": []
  },
  {
   "cell_type": "code",
   "execution_count": null,
   "metadata": {},
   "outputs": [],
   "source": []
  },
  {
   "cell_type": "markdown",
   "metadata": {},
   "source": [
    "## Choosing reference prices, budget, and units\n",
    "\n"
   ]
  },
  {
   "cell_type": "markdown",
   "metadata": {},
   "source": [
    "We&rsquo;ll want to choose reference prices (a choice of `t` and `m`) and\n",
    "units (`u`).  You can examine possibilities by looking at:\n",
    "\n"
   ]
  },
  {
   "cell_type": "code",
   "execution_count": 5,
   "metadata": {},
   "outputs": [
    {
     "data": {
      "text/plain": [
       "Coordinates:\n",
       "  * i        (i) object '(Cocoyam, Spinach, etc)' ... 'Yam-roots'\n",
       "  * t        (t) int64 2010 2012 2015 2018\n",
       "  * m        (m) int64 1\n",
       "  * u        (u) object '1. KILOGRAMS (KG)' '2. GRAMS (G)' ... 'litre (l)'"
      ]
     },
     "execution_count": 5,
     "metadata": {},
     "output_type": "execute_result"
    }
   ],
   "source": [
    "r.prices.coords"
   ]
  },
  {
   "cell_type": "code",
   "execution_count": null,
   "metadata": {},
   "outputs": [],
   "source": []
  },
  {
   "cell_type": "markdown",
   "metadata": {},
   "source": [
    "Below we choose first market in first period, but this is a matter of\n",
    "choice.  We also choose prices for goods measured in &rsquo;Kilograms&rsquo;; this\n",
    "may vary with the dataset.  To inspect possible units look at:\n",
    "\n"
   ]
  },
  {
   "cell_type": "code",
   "execution_count": 12,
   "metadata": {},
   "outputs": [
    {
     "data": {
      "text/plain": [
       "i\n",
       "(Cocoyam, Spinach, etc)     68.315621\n",
       "Agricultural eggs          202.653897\n",
       "Avocado pear                72.225457\n",
       "Baby milk powder           231.375755\n",
       "Bananas                     90.821855\n",
       "                              ...    \n",
       "Wheat flour                 98.954978\n",
       "White beans                101.311511\n",
       "Wild game meat             426.200899\n",
       "Yam flour                  225.491453\n",
       "Yam-roots                   61.296256\n",
       "Name: prices, Length: 90, dtype: float64"
      ]
     },
     "execution_count": 12,
     "metadata": {},
     "output_type": "execute_result"
    }
   ],
   "source": [
    "t = r.firstround  # First round\n",
    "m = r.coords['m'][0] # First market\n",
    "\n",
    "# Get median budget\n",
    "x = r.get_predicted_expenditures().sum('i')\n",
    "medianx = x.where(x>0).sel(t=t,m=m).median('j').values\n",
    "\n",
    "# Note selection of prices for first market in first period for /kgs/.\n",
    "# For goods never measured in kgs prices will be missing. \n",
    "p = r.prices.sel(t=t,m=m,u='Kilograms',drop=True).to_dataframe().squeeze().dropna()\n",
    "p"
   ]
  },
  {
   "cell_type": "code",
   "execution_count": null,
   "metadata": {},
   "outputs": [],
   "source": []
  },
  {
   "cell_type": "code",
   "execution_count": null,
   "metadata": {},
   "outputs": [],
   "source": []
  },
  {
   "cell_type": "code",
   "execution_count": null,
   "metadata": {},
   "outputs": [],
   "source": []
  },
  {
   "cell_type": "code",
   "execution_count": null,
   "metadata": {},
   "outputs": [],
   "source": []
  },
  {
   "cell_type": "code",
   "execution_count": null,
   "metadata": {},
   "outputs": [],
   "source": []
  },
  {
   "cell_type": "code",
   "execution_count": null,
   "metadata": {},
   "outputs": [],
   "source": []
  },
  {
   "cell_type": "markdown",
   "metadata": {},
   "source": [
    "And with $(x,p)$ defined we can calculate example demands:\n",
    "\n"
   ]
  },
  {
   "cell_type": "code",
   "execution_count": 13,
   "metadata": {},
   "outputs": [
    {
     "data": {
      "text/plain": [
       "i\n",
       "(Cocoyam, Spinach, etc)                   0.366933\n",
       "Agricultural eggs                         2.789957\n",
       "Bananas                                   0.788088\n",
       "Beef                                      0.186890\n",
       "Beer (local and imported)                 2.426062\n",
       "Bread                                     0.660163\n",
       "Brown beans                               0.508576\n",
       "Chicken                                   0.104248\n",
       "Chocolate drinks                          1.989477\n",
       "Cocoyam                                   0.367896\n",
       "Condiments,(salt,spices,pepper, etc)     43.886105\n",
       "Fish-Dried                                0.959619\n",
       "Fish-Fresh                                0.844145\n",
       "Fish-Frozen                               0.076023\n",
       "Fish-Smoked                             153.587912\n",
       "Garden eggs/egg plant                     0.323181\n",
       "Gari -Yellow                              0.413920\n",
       "Gari-White                                1.151248\n",
       "Goat                                      0.147698\n",
       "Groundnut oil                             0.442504\n",
       "Malt drinks                               0.776985\n",
       "Milk powder                               9.969153\n",
       "Milk tinned (unsweetened)                 0.319247\n",
       "Okra-fresh                                0.232426\n",
       "Onions                                   27.473640\n",
       "Orange/tangerine                          0.716055\n",
       "Other vegetables (fresh or canned)        0.159386\n",
       "Palm oil                                  2.446406\n",
       "Pineapples                                0.273621\n",
       "Plantains                                 0.467093\n",
       "Rice-Imported                             9.409886\n",
       "Rice-local                               17.129885\n",
       "Sachet water                             15.406671\n",
       "Seafood (lobster, crab, prawns)           3.923543\n",
       "Soft drinks (Coca cola, spirit etc)       0.907281\n",
       "Sugar                                   646.838536\n",
       "Sweet Potatoes                            0.730861\n",
       "Tea                                       0.275031\n",
       "Tomato puree(canned)                      1.012691\n",
       "Tomatoes                                  4.168261\n",
       "White beans                               1.267288\n",
       "Yam-roots                                 1.158640\n",
       "dtype: float64"
      ]
     },
     "execution_count": 13,
     "metadata": {},
     "output_type": "execute_result"
    }
   ],
   "source": [
    "# Expenditures divided by reference prices per Kilogram\n",
    "c=(r.demands(medianx)/p).dropna()\n",
    "c"
   ]
  },
  {
   "cell_type": "code",
   "execution_count": null,
   "metadata": {},
   "outputs": [],
   "source": []
  },
  {
   "cell_type": "code",
   "execution_count": null,
   "metadata": {},
   "outputs": [],
   "source": []
  },
  {
   "cell_type": "markdown",
   "metadata": {},
   "source": [
    "## Mapping to Nutrients\n",
    "\n"
   ]
  },
  {
   "cell_type": "markdown",
   "metadata": {},
   "source": [
    "We&rsquo;ve seen how to map prices and budgets into vectors of consumption\n",
    "quantities using `cfe.Result.demands`.  Next we want to think about\n",
    "how to map these into bundles of *nutrients*.  The information needed\n",
    "for the mapping comes from a &ldquo;Food Conversion Table&rdquo; (or database,\n",
    "such as the [USDA Food Central Database](https://fdc.nal.usda.gov/)).   Here we&rsquo;ve adapted (with\n",
    "thanks to Alessandro Tarozzi of the Universitat Pompeu Fabra) a food\n",
    "conversion table developed by Gopalan et al (1980) to the foods\n",
    "reported in the Indian ICRISAT data:\n",
    "\n"
   ]
  },
  {
   "cell_type": "code",
   "execution_count": 14,
   "metadata": {},
   "outputs": [
    {
     "data": {
      "text/plain": [
       "Index(['Protein', 'Fat', 'fibre', 'carbohydrate', 'Calories', 'energy_kj',\n",
       "       'Calcium', 'Iron', 'Betacarotene', 'caroten_total', 'Thiamine',\n",
       "       'Riboflavin', 'Niacin', 'Ascorbic Acid', 'pu_cal', 'pu_prot', 'pu_fat'],\n",
       "      dtype='object')"
      ]
     },
     "execution_count": 14,
     "metadata": {},
     "output_type": "execute_result"
    }
   ],
   "source": [
    "import pandas as pd\n",
    "import numpy as np\n",
    "\n",
    "# The function below adapted from Gianmario Spacagna's suggestion at\n",
    "# https://stackoverflow.com/questions/19611729/getting-google-spreadsheet-csv-into-a-pandas-dataframe\n",
    "def dataframe_from_gspreadsheet(sheet_name, key):\n",
    "    \"\"\"Transform public google spreadsheet into pandas.DataFrame.\"\"\"\n",
    "    \n",
    "    url = 'https://docs.google.com/spreadsheets/d/{key}/gviz/tq?tqx=out:csv&sheet={sheet_name}&headers=1'.format(\n",
    "        key=key, sheet_name=sheet_name.replace(' ', '%20'))\n",
    "\n",
    "    df = pd.read_csv(url)\n",
    "\n",
    "    return df.drop([col for col in df.columns if col.startswith('Unnamed')], axis=1)\n",
    "\n",
    "# Change 'ICRISAT' sheet id to that of your own sheet\n",
    "fct = dataframe_from_gspreadsheet(\"FCT\", '13Ig5hZif-NSHtgkKRp_cEgKXk0lOsdUB2BAD6O_FnRo')\n",
    "\n",
    "\n",
    "# Change some labels\n",
    "d={'protein':'Protein',\n",
    "   'protein g':'Protein',\n",
    "   'fat':'Fat',\n",
    "   'energy_kcal':'Calories',\n",
    "   'energy kcal':'Calories',\n",
    "   'calcium':'Calcium',\n",
    "   'ca mg':'Calcium',\n",
    "   'betacarotene':'Betacarotene',\n",
    "   'thiamine':'Thiamine',\n",
    "   'riboflavin':'Riboflavin',\n",
    "   'niacin':'Niacin',\n",
    "   'iron':'Iron',\n",
    "   'fe mg':'Iron',\n",
    "   'ascorbic_total':'Ascorbic Acid',\n",
    "   'vit a ug':'Vitamin A',\n",
    "   'vit b6 mg':'Vitamin B6',\n",
    "   'vit b12 ug':'Vitamin B12',\n",
    "   'vit d ug':'Vitamin D',\n",
    "   'vit e ug':'Vitamin E',\n",
    "   'vit c mg':'Vitamin C',\n",
    "   'mg mg':'Magnesium',\n",
    "   'zn mg':'Zinc'}\n",
    "\n",
    "fct = fct.rename(columns=d) #[list(d.values())]\n",
    "\n",
    "# Fix capitalization (to match food labels)\n",
    "fct.index = fct.reset_index()['i'].str.title()\n",
    "del fct['i']\n",
    "del fct['ext_source']\n",
    "\n",
    "# Replace missing with zeros\n",
    "fct = fct.fillna(0)\n",
    "\n",
    "try:\n",
    "    fct.index = fct.index.droplevel('u')\n",
    "except (AttributeError,KeyError):\n",
    "    pass # No units?\n",
    "\n",
    "fct.columns"
   ]
  },
  {
   "cell_type": "code",
   "execution_count": null,
   "metadata": {},
   "outputs": [],
   "source": []
  },
  {
   "cell_type": "markdown",
   "metadata": {},
   "source": [
    "We need the index of the Food Conversion Table (FCT) to match up with\n",
    "the index of the vector of quantities demanded.   To manage this we\n",
    "make use of the `align` method for `pd.DataFrames`:\n",
    "\n"
   ]
  },
  {
   "cell_type": "code",
   "execution_count": 15,
   "metadata": {},
   "outputs": [
    {
     "name": "stdout",
     "output_type": "stream",
     "text": [
      "Index(['Sugar', 'Goat', 'Tea'], dtype='object', name='i')\n"
     ]
    }
   ],
   "source": [
    "# Create a new FCT and vector of consumption that only share rows in common:\n",
    "fct0,c0 = fct.align(c,axis=0,join='inner')\n",
    "print(fct0.index)"
   ]
  },
  {
   "cell_type": "code",
   "execution_count": null,
   "metadata": {},
   "outputs": [],
   "source": []
  },
  {
   "cell_type": "markdown",
   "metadata": {},
   "source": [
    "Now, since rows of `fct0` and `c0` match, we can obtain nutritional\n",
    "outcomes from the inner (or dot, or matrix) product of the transposed\n",
    "`fct0` and `c0`:\n",
    "\n"
   ]
  },
  {
   "cell_type": "code",
   "execution_count": 16,
   "metadata": {},
   "outputs": [
    {
     "data": {
      "text/plain": [
       "Protein          1.199523e+04\n",
       "Fat              1.035084e+05\n",
       "fibre            0.000000e+00\n",
       "carbohydrate     5.489719e+05\n",
       "Calories         2.286765e+06\n",
       "energy_kj        9.574230e+06\n",
       "Calcium          6.922335e+05\n",
       "Iron             2.995185e+04\n",
       "Betacarotene     0.000000e+00\n",
       "caroten_total    1.196004e+05\n",
       "Thiamine         2.589053e+02\n",
       "Riboflavin       6.488324e+01\n",
       "Niacin           1.384585e+02\n",
       "Ascorbic Acid    0.000000e+00\n",
       "pu_cal           2.574592e+06\n",
       "pu_prot          6.784459e+02\n",
       "pu_fat           5.317132e+00\n",
       "dtype: float64"
      ]
     },
     "execution_count": 16,
     "metadata": {},
     "output_type": "execute_result"
    }
   ],
   "source": [
    "# The @ operator means matrix multiply\n",
    "N = fct0.T@c0\n",
    "N"
   ]
  },
  {
   "cell_type": "code",
   "execution_count": null,
   "metadata": {},
   "outputs": [],
   "source": []
  },
  {
   "cell_type": "markdown",
   "metadata": {},
   "source": [
    "Of course, since we can compute the nutritional content of a vector of\n",
    "consumption goods `c0`, we can also use our demand functions to\n",
    "compute nutrition as a *function* of prices and budget.\n",
    "\n"
   ]
  },
  {
   "cell_type": "code",
   "execution_count": 17,
   "metadata": {},
   "outputs": [],
   "source": [
    "def nutrient_demand(x,pscale=None,p=p):\n",
    "    c = (r.demands(x,p=pscale)/p).dropna()\n",
    "    fct0,c0 = fct.align(c,axis=0,join='inner')\n",
    "    N = fct0.T@c0\n",
    "\n",
    "    return N"
   ]
  },
  {
   "cell_type": "code",
   "execution_count": null,
   "metadata": {},
   "outputs": [],
   "source": []
  },
  {
   "cell_type": "markdown",
   "metadata": {},
   "source": [
    "With this `nutrient_demand` function in hand, we can see how nutrient\n",
    "outcomes vary with budget, given prices:\n",
    "\n"
   ]
  },
  {
   "cell_type": "code",
   "execution_count": 18,
   "metadata": {},
   "outputs": [
    {
     "data": {
      "text/plain": [
       "Text(0, 0.5, 'log nutrient')"
      ]
     },
     "execution_count": 18,
     "metadata": {},
     "output_type": "execute_result"
    },
    {
     "data": {
      "image/png": "[encoded data removed]",
      "text/plain": [
       "<Figure size 432x288 with 1 Axes>"
      ]
     },
     "metadata": {
      "needs_background": "light"
     },
     "output_type": "display_data"
    }
   ],
   "source": [
    "import numpy as np\n",
    "import matplotlib.pyplot as plt\n",
    "\n",
    "X = np.linspace(medianx/5,medianx*5,50).tolist()\n",
    "\n",
    "UseNutrients = ['Protein','Calories','Iron','Calcium']\n",
    "\n",
    "# Use reference prices\n",
    "logN={}\n",
    "for myx in X:\n",
    "    logN[myx] = np.log(nutrient_demand(myx)[UseNutrients])\n",
    "    \n",
    "logN = pd.concat(logN,axis=1).T\n",
    "\n",
    "plt.plot(X,logN)\n",
    "plt.legend(UseNutrients)\n",
    "plt.xlabel('log budget')\n",
    "plt.ylabel('log nutrient')"
   ]
  },
  {
   "cell_type": "code",
   "execution_count": null,
   "metadata": {},
   "outputs": [],
   "source": []
  },
  {
   "cell_type": "markdown",
   "metadata": {},
   "source": [
    "Now how does nutrition vary with prices at median income?\n",
    "\n"
   ]
  },
  {
   "cell_type": "code",
   "execution_count": 19,
   "metadata": {},
   "outputs": [
    {
     "data": {
      "text/plain": [
       "Text(0, 0.5, 'log Nutrient')"
      ]
     },
     "execution_count": 19,
     "metadata": {},
     "output_type": "execute_result"
    },
    {
     "data": {
      "image/png": "[encoded data removed]",
      "text/plain": [
       "<Figure size 432x288 with 1 Axes>"
      ]
     },
     "metadata": {
      "needs_background": "light"
     },
     "output_type": "display_data"
    }
   ],
   "source": [
    "# Choose some good from your dataset\n",
    "USE_GOOD = 'Milk'\n",
    "\n",
    "P = np.linspace(1,5,20).tolist()\n",
    "\n",
    "plt.plot(P,pd.concat({p0:np.log(nutrient_demand(medianx,pscale={USE_GOOD:p0})[UseNutrients]) for p0 in P},axis=1).T)\n",
    "plt.legend(UseNutrients)\n",
    "plt.xlabel('Price')\n",
    "plt.ylabel('log Nutrient')"
   ]
  },
  {
   "cell_type": "markdown",
   "metadata": {},
   "source": []
  }
 ],
 "metadata": {
  "kernelspec": {
   "display_name": "Python 3",
   "language": "python",
   "name": "python3"
  },
  "language_info": {
   "codemirror_mode": {
    "name": "ipython",
    "version": 3
   },
   "file_extension": ".py",
   "mimetype": "text/x-python",
   "name": "python",
   "nbconvert_exporter": "python",
   "pygments_lexer": "ipython3",
   "version": "3.6.9"
  },
  "org": null
 },
 "nbformat": 4,
 "nbformat_minor": 1
}
